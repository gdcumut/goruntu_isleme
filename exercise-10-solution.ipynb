{
 "cells": [
  {
   "cell_type": "markdown",
   "metadata": {
    "colab_type": "text",
    "id": "qK1kecVF2afc"
   },
   "source": [
    "<div style=\"font-size:1.4em; margin-bottom:2em\">\n",
    "    <div style=\"float:right; line-height:1.2em;\">GET Lab<br />Paderborn University</div>\n",
    "  <div>SS 2021</div>\n",
    "</div>\n",
    "<div style=\"clear:both\"></div>\n",
    "<div style=\"text-align:center; font-size:1.8em;\">\n",
    "  Digital Image Processing II<br />Task Sheet 10\n",
    "</div>\n",
    "\n",
    "<hr>"
   ]
  },
  {
   "cell_type": "markdown",
   "metadata": {},
   "source": [
    "### Overview"
   ]
  },
  {
   "cell_type": "markdown",
   "metadata": {},
   "source": [
    "The objective of this task sheet is to develop a simple object recognition system that distinguishes two classes from the <a href=\"https://dabi.temple.edu/external/shape/MPEG7/dataset.html\">MPEG-7 dataset</a>: *apple* and *bat*. The dataset is often used to evaluate object classification algorithms and consists of binary images of 70 different classes, where each class contains 20 examples. The following figure shows the first five images of the two classes considered here:\n",
    "\n",
    "<center><img src=\"images/mpeg7-overview.png\" style=\"margin-bottom:5px;\" /></center>\n",
    "\n",
    "The first step in the development of the object recognition system is feature extraction so that every image is described by a feature vector $\\mathbf{x}$. The second step is the implementation of a classifier, in this case a **minimum distance classifier**. The decision function of the minimum distance classifier is given as follows:\n",
    "\n",
    "$$d_i(\\textbf{x})=\\textbf{x}^T\\textbf{m}_i - \\frac{1}{2}\\textbf{m}_i^T\\textbf{m}_i$$\n",
    "\n",
    "In this equation, $\\textbf{m}_i$ is the mean vector of the feature vectors of that class, which is computed in the training phase. Note that the second term is a constant after the training phase. There are then two possibilities for the classification: either one computes $d_i(\\textbf{x})$ for each class and decides for the class with largest numerical value, or one computes the decision boundary $d_{12}(\\textbf{x})=d_{1}(\\textbf{x})-d_{2}(\\textbf{x})$ and decides based on the sign of $d_{12}(\\textbf{x})$."
   ]
  },
  {
   "cell_type": "markdown",
   "metadata": {},
   "source": [
    "---"
   ]
  },
  {
   "cell_type": "code",
   "execution_count": 1,
   "metadata": {},
   "outputs": [],
   "source": [
    "import cv2\n",
    "import numpy as np\n",
    "from matplotlib import pyplot as plt\n",
    "\n",
    "dpi = plt.rcParams['figure.dpi']\n",
    "\n",
    "# plot image in original size\n",
    "def plot_img_orig(img):\n",
    "    fig = plt.figure(figsize = (img.shape[1]/dpi, img.shape[0]/dpi))\n",
    "    fig.add_axes([0, 0, 1, 1])\n",
    "    plt.axis('off')\n",
    "    plt.imshow(img, cmap='gray', vmin=0, vmax=255) # cmap parameter is ignored for RGB(A) data\n",
    "    plt.show()"
   ]
  },
  {
   "cell_type": "markdown",
   "metadata": {},
   "source": [
    "#### <span style=\"color: RoyalBlue; font-weight: bold;\">Task 10.1</span> Feature Extraction"
   ]
  },
  {
   "cell_type": "markdown",
   "metadata": {},
   "source": [
    "In this example, the feature vectors should be two-dimensional so that $\\mathbf{x} = [x_1\\ x_2]^T$. This makes it easy to analyze the data in a plot. It is important that the features used are distinctive so that the two classes can be reliably distinguished. This means that the feature vectors are well separated in the feature space. For this task, use the first 15 images of each class (e.g., *apple-1.png*, $\\dots$, *apple-15.png*). The remaining 5 images of each class should be classified in the next task.\n",
    "\n",
    "Implement / solve the following tasks:\n",
    "1. Write a function to compute a 2D feature vector for a given image (you can choose the features on your own, see below for suggestions).\n",
    "2. Compute the feature vectors for the first 15 images of each class and use appropriate data structures to store the results. \n",
    "3. Plot the features in the 2D feature space. Use a different symbol or color for each class.\n",
    "4. Evaluate the features with respect to their applicability for the classification.\n",
    "\n",
    "Suggestions for the features: ratio of black and white pixels as feature 1 ($x_1$) and the ratio of the PCA eigenvalues (largest eigenvalue devided by the smallest) as feature 2 ($x_2$). The PCA eigenvalues correspond to the lengths of the two main axes that describe the distribution of the white pixels. The OpenCV function <a href=\"https://docs.opencv.org/4.2.0/d2/de8/group__core__array.html#ga4e2073c7311f292a0648f04c37b73781\">`PCACompute2`</a> can be used to compute the eigenvalues."
   ]
  },
  {
   "cell_type": "code",
   "execution_count": 2,
   "metadata": {},
   "outputs": [
    {
     "name": "stdout",
     "output_type": "stream",
     "text": [
      "apples =\n",
      " [[1.3174794  1.02612077]\n",
      " [0.89772398 1.05653021]\n",
      " [0.82115267 1.15795857]\n",
      " [2.92384146 1.27935373]\n",
      " [0.89038883 1.09273644]\n",
      " [0.96333134 1.16612454]\n",
      " [1.06699047 1.07262802]\n",
      " [1.10957317 1.41492942]\n",
      " [1.28802849 1.11378592]\n",
      " [1.33756599 1.06541495]\n",
      " [0.97177844 1.29671832]\n",
      " [0.93950873 1.0676718 ]\n",
      " [0.82231738 1.20373047]\n",
      " [1.30168932 1.1400514 ]\n",
      " [0.74089521 1.23181417]]\n",
      "bats =\n",
      " [[3.08716518 4.26269816]\n",
      " [2.10685957 9.25857252]\n",
      " [6.30589336 9.25761767]\n",
      " [1.66041033 5.47850952]\n",
      " [4.5280888  5.47881051]\n",
      " [2.4805841  4.84043243]\n",
      " [6.85009545 4.83986601]\n",
      " [1.21924955 5.17569649]\n",
      " [4.3037255  5.17617777]\n",
      " [3.72817255 5.85418752]\n",
      " [9.85302482 5.85461821]\n",
      " [1.35468365 6.88734527]\n",
      " [4.46022401 6.88875832]\n",
      " [2.1697181  2.99324213]\n",
      " [5.62197034 2.99344768]]\n"
     ]
    },
    {
     "data": {
      "image/png": "[encoded data removed]",
      "text/plain": [
       "<Figure size 360x360 with 1 Axes>"
      ]
     },
     "metadata": {
      "needs_background": "light"
     },
     "output_type": "display_data"
    }
   ],
   "source": [
    "# write your code here\n",
    "\n",
    "# compute 2D feature vector for given image\n",
    "def getFeatures(img):\n",
    "    # determine image size\n",
    "    rows, cols = img.shape\n",
    "    \n",
    "    # use the ratio of black and white pixels as feature 1 (x1)\n",
    "    noWhitePx = cv2.countNonZero(img)\n",
    "    noBlackPx = (rows*cols) - noWhitePx;\n",
    "    \n",
    "    x1 = noBlackPx / noWhitePx;\n",
    "    \n",
    "    # use the ratio of the PCA eigenvalues (largest/smallest) as feature 2 (x2)\n",
    "    whitePx = (np.transpose(img.nonzero())).astype(np.float64) # vector coordinates of white pixels\n",
    "    mean, eigenvectors, eigenvalues = cv2.PCACompute2(whitePx, mean=None) # PCACompute2 requires float64 format\n",
    "    #print(mean); print(eigenvectors); print(eigenvalues)\n",
    "    \n",
    "    if eigenvalues[0] > eigenvalues[1]:\n",
    "        x2 = float(eigenvalues[0] / eigenvalues[1])\n",
    "    else:\n",
    "        x2 = float(eigenvalues[1] / eigenvalues[0])\n",
    "\n",
    "    # return result\n",
    "    return x1, x2\n",
    "\n",
    "# create 2d array to save the 2 features\n",
    "# each row represents one pair of features x1 and x2\n",
    "apples = np.empty(shape=[0, 2])\n",
    "bats = np.empty(shape=[0, 2])\n",
    "\n",
    "# compute features\n",
    "for i in range(1,16): # i from 1 to 15\n",
    "    img = cv2.imread(\"images/mpeg7-apple/apple-\" + str(i) + \".png\", 0)\n",
    "    x1, x2 = getFeatures(img)\n",
    "    apples = np.append(apples, [[x1, x2]], axis=0)\n",
    "    \n",
    "    img = cv2.imread(\"images/mpeg7-bat/bat-\" + str(i) + \".png\", 0)\n",
    "    x1, x2 = getFeatures(img)\n",
    "    bats = np.append(bats, [[x1, x2]], axis=0)\n",
    "\n",
    "# print the results\n",
    "print(\"apples =\\n\", apples)\n",
    "print(\"bats =\\n\", bats)\n",
    "\n",
    "# plot the features in the 2D feature space\n",
    "plt.figure(figsize=(5, 5))\n",
    "\n",
    "plt.plot(apples[:,0], apples[:,1], 'bo', label='apple')\n",
    "plt.plot(bats[:,0], bats[:,1], 'r^', label='bat')\n",
    "\n",
    "plt.xlabel('x1'); plt.ylabel('x2')\n",
    "plt.axis(\"equal\")\n",
    "plt.xlim(0, 12); plt.ylim(0, 12)\n",
    "\n",
    "plt.grid()\n",
    "plt.legend()\n",
    "plt.show()"
   ]
  },
  {
   "cell_type": "markdown",
   "metadata": {},
   "source": [
    "The classes are well separated so that the features $x_1$ and $x_2$ are suitable for the classification. The class *apple* has one outlier. This is the image *apple-4.png*, where the image is much larger than the apple (much more black pixels so that $x_1$ becomes larger). In such cases, it might be good a strategy to crop the objects in a preprocessing step. The general form of the bats is much more variable than the form of the apples. This is why the class *bat* spreads over a larger area in the feature space. In general, both features used are scale and rotation invariant.\n",
    "\n",
    "We can see an additional interesting property here: if we project the features on the $x_2$-axis, the classes are already well separated. As a result, $x_2$ alone is a sufficient feature and we can work in 1D. This is because the apples have a characteristic circular form ($x_2 \\approx 1$), while there are major differences between the two axes for the bats. The numerical values confirm this."
   ]
  },
  {
   "cell_type": "markdown",
   "metadata": {},
   "source": [
    "#### <span style=\"color: RoyalBlue; font-weight: bold;\">Task 10.2</span> Minimum Distance Classifier"
   ]
  },
  {
   "cell_type": "markdown",
   "metadata": {},
   "source": [
    "In the 2D case as it is considered here, the decision function of the minimum distance classifier can be rewritten as follows:\n",
    "\n",
    "$$\n",
    "d_i(\\textbf{x})\n",
    "= \\textbf{x}^T\\textbf{m}_i - \\frac{1}{2}\\textbf{m}_i^T\\textbf{m}_i\n",
    "= [x_1\\ x_2] \\begin{bmatrix}m_{x_1, i}\\\\ m_{x_2, i}\\end{bmatrix} - \\frac{1}{2}\\textbf{m}_i^T\\textbf{m}_i\n",
    "= m_{x_1, i} x_1 + m_{x_2, i} x_2 - c_i\n",
    "$$\n",
    "\n",
    "As the second term is constant for each class, it can be denoted $c_i$. The corresponding decision boundary can then be computed based on the following function:\n",
    "\n",
    "$$\n",
    "d_{12}(\\textbf{x})\n",
    "= d_{1}(\\textbf{x})-d_{2}(\\textbf{x})\n",
    "= (m_{x_1, 1} x_1 + m_{x_2, 1} x_2 - c_1) - (m_{x_1, 2} x_1 + m_{x_2, 2} x_2 - c_2)\n",
    "$$\n",
    "$$\n",
    "= (m_{x_1, 1}-m_{x_1, 2}) x_1 + (m_{x_2, 1}-m_{x_2, 2}) x_2 - (c_1-c_2)\n",
    "= \\Delta m_{x_1} x_1 + \\Delta m_{x_2} x_2 - \\Delta c_i\n",
    "$$\n",
    "\n",
    "New examples can be classified based on the sign of this function ($d_{12}(\\textbf{x}) > 0$ for class 1 and $d_{12}(\\textbf{x}) < 0$ for class 2). The function of the decision boundary can be computed by setting $d_{12}(\\textbf{x}) = 0$. This leads to:\n",
    "\n",
    "$$x_2 = f(x_1) = \\frac{1}{\\Delta m_{x_2}} (\\Delta c_i - \\Delta m_{x_1} x_1)$$\n",
    "\n",
    "Implement / solve the following tasks:\n",
    "1. Compute and plot the decision boundary of the minimum distance classifier.\n",
    "2. Use the corresponding decision function to classify the remaining 5 images of the classes *apple* and *bat*."
   ]
  },
  {
   "cell_type": "code",
   "execution_count": 3,
   "metadata": {},
   "outputs": [
    {
     "data": {
      "image/png": "[encoded data removed]",
      "text/plain": [
       "<Figure size 360x360 with 1 Axes>"
      ]
     },
     "metadata": {
      "needs_background": "light"
     },
     "output_type": "display_data"
    },
    {
     "name": "stdout",
     "output_type": "stream",
     "text": [
      "class apple\n",
      "class apple\n",
      "class apple\n",
      "class apple\n",
      "class apple\n",
      "class bat\n",
      "class bat\n",
      "class bat\n",
      "class bat\n",
      "class bat\n"
     ]
    }
   ],
   "source": [
    "# write your code here\n",
    "\n",
    "# compute the mean values\n",
    "mean_apples = np.mean(apples, axis=0)\n",
    "mean_bats = np.mean(bats, axis=0)\n",
    "\n",
    "# compute the decision boundary\n",
    "dm1 = mean_apples[0]-mean_bats[0]\n",
    "dm2 = mean_apples[1]-mean_bats[1]\n",
    "dci = 0.5*np.dot(mean_apples, mean_apples) - 0.5*np.dot(mean_bats, mean_bats)\n",
    "\n",
    "# plot features and mean values in feature space\n",
    "plt.figure(figsize=(5, 5))\n",
    "\n",
    "# plot of the feature vectors\n",
    "plt.plot(apples[:,0], apples[:,1], 'bo', label='apple')\n",
    "plt.plot(bats[:,0], bats[:,1], 'r^', label='bat')\n",
    "\n",
    "# plot of the mean vectors\n",
    "plt.plot(mean_apples[0], mean_apples[1], 'co') # mean values in cyan\n",
    "plt.plot(mean_bats[0], mean_bats[1], 'c^')\n",
    "\n",
    "# plot of the decision boundary\n",
    "x1 = np.arange(0, 10, 0.01) # range of x1\n",
    "x2 = (1.0/dm2) * (dci - dm1*x1)\n",
    "plt.plot(x1, x2, label='decision boundary')\n",
    "\n",
    "plt.xlabel('x1'); plt.ylabel('x2')\n",
    "plt.axis(\"equal\")\n",
    "plt.xlim(0, 12); plt.ylim(0, 12)\n",
    "\n",
    "plt.grid()\n",
    "plt.legend()\n",
    "plt.show()\n",
    "\n",
    "# classify apples\n",
    "for i in range(16,21): # i from 16 to 20\n",
    "    img = cv2.imread(\"images/mpeg7-apple/apple-\" + str(i) + \".png\", 0)\n",
    "    x1, x2 = getFeatures(img)\n",
    "    \n",
    "    if (dm1*x1+dm2*x2-dci) > 0:\n",
    "        print(\"class apple\")\n",
    "    else:\n",
    "        print(\"class bat\")\n",
    "    \n",
    "# classify bats\n",
    "for i in range(16,21): # i from 16 to 20\n",
    "    img = cv2.imread(\"images/mpeg7-bat/bat-\" + str(i) + \".png\", 0)\n",
    "    x1, x2 = getFeatures(img)\n",
    "\n",
    "    if (dm1*x1+dm2*x2-dci) > 0:\n",
    "        print(\"class apple\")\n",
    "    else:\n",
    "        print(\"class bat\")"
   ]
  },
  {
   "cell_type": "code",
   "execution_count": null,
   "metadata": {},
   "outputs": [],
   "source": []
  }
 ],
 "metadata": {
  "colab": {
   "collapsed_sections": [],
   "name": "exercise03.ipynb",
   "provenance": [
    {
     "file_id": "1t83LvQEqlSn19-1lIXfkp-R22qZd_lSK",
     "timestamp": 1586447633533
    }
   ],
   "toc_visible": true
  },
  "kernelspec": {
   "display_name": "Python 3",
   "language": "python",
   "name": "python3"
  },
  "language_info": {
   "codemirror_mode": {
    "name": "ipython",
    "version": 3
   },
   "file_extension": ".py",
   "mimetype": "text/x-python",
   "name": "python",
   "nbconvert_exporter": "python",
   "pygments_lexer": "ipython3",
   "version": "3.7.6"
  }
 },
 "nbformat": 4,
 "nbformat_minor": 4
}
