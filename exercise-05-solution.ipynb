{
 "cells": [
  {
   "cell_type": "markdown",
   "metadata": {
    "colab_type": "text",
    "id": "qK1kecVF2afc"
   },
   "source": [
    "<div style=\"font-size:1.4em; margin-bottom:2em\">\n",
    "    <div style=\"float:right; line-height:1.2em;\">GET Lab<br />Paderborn University</div>\n",
    "  <div>SS 2021</div>\n",
    "</div>\n",
    "<div style=\"clear:both\"></div>\n",
    "<div style=\"text-align:center; font-size:1.8em;\">\n",
    "  Digital Image Processing II<br />Task Sheet 5\n",
    "</div>\n",
    "\n",
    "<hr>"
   ]
  },
  {
   "cell_type": "markdown",
   "metadata": {},
   "source": [
    "### Overview"
   ]
  },
  {
   "cell_type": "markdown",
   "metadata": {},
   "source": [
    "The next step after image segmentation is typically feature extaction. Region boundaries are one example for such features. Many algorithms which work on boundaries require that the boundary points are ordered and accessible in a clockwise or counterclockwise direction. Boundary following algorithms trace a boundary by identifying a starting pixel and systematically analyzing the neighborbood while following the boundary. A simple algorithm for this is the *Moore boundary tracing algorithm*, which we study in task 5.1. The traced boundaries can then be described by chain codes, specific approximations, signatures, and other methods. The following animation illustrates the algorithm (see task 5.1 for details):\n",
    "\n",
    "<center><img src=\"images/animation-tracing.gif\" /></center>\n",
    "\n",
    "Another method to describe boundaries is using Fourier descriptors. The idea is that the coordinate pairs of the boundary can be intepreted as complex numbers. The representation can then be transformed to and manipulated in the frequency domain. For example, higher frequencies can be removed so that the boundary is smoothed. This is what we study in task 5.2."
   ]
  },
  {
   "cell_type": "markdown",
   "metadata": {},
   "source": [
    "---"
   ]
  },
  {
   "cell_type": "code",
   "execution_count": 1,
   "metadata": {},
   "outputs": [],
   "source": [
    "import cv2\n",
    "import numpy as np\n",
    "from matplotlib import pyplot as plt\n",
    "\n",
    "dpi = plt.rcParams['figure.dpi']\n",
    "\n",
    "# plot image in original size\n",
    "def plot_img_orig(img):\n",
    "    fig = plt.figure(figsize = (img.shape[1]/dpi, img.shape[0]/dpi))\n",
    "    fig.add_axes([0, 0, 1, 1])\n",
    "    plt.axis('off')\n",
    "    plt.imshow(img, cmap='gray', vmin=0, vmax=255) # cmap parameter is ignored for RGB(A) data\n",
    "    plt.show()"
   ]
  },
  {
   "cell_type": "markdown",
   "metadata": {},
   "source": [
    "#### <span style=\"color: RoyalBlue; font-weight: bold;\">Task 5.1</span> Boundary Following (Tracing)"
   ]
  },
  {
   "cell_type": "markdown",
   "metadata": {},
   "source": [
    "The Moore boundary tracing algorithm for binary images can be summarized as follows:\n",
    "\n",
    "1. Let the starting point, $b_0$, be the uppermost-leftmost boundary point in the image. Denote by $c_0$ the west neighbor of $b_0$ (which is always a background point). Scan the 8-neighbors of $b_0$ in a clockwise direction, starting at $c_0$. Let $b_1$ denote the first boundary point encountered and let $c_1$ be the (background) point immediately preceding $b_1$ in the scan.\n",
    "2. Let $b = b_1$ and $c = c_1$.\n",
    "3. Let the 8-neighbors of $b$ be denoted by $n_1, n_2,\\dots, n_8$, starting at $c$ and proceeding in a clockwise direction. Find the first neighbor which is a boundary point and denote it $n_k$.\n",
    "4. Let $b = n_k$ and $c = n_{k–1}$ ($c$ is again the point immediately preceding $b$).\n",
    "5. Repeat Steps 3 and 4 until $b = b_0$. The set of ordered boundary points is the sequence of $b_i$.\n",
    "\n",
    "Note: In this form, the algorithm can only trace simple and well-formed boundaries (closed boundaries and boundaries of well-formed regions). In particular, it should be provided that $b_0$ can be reached directly. Otherwise, pixels may be traced several times. An additional check whether a pixel has already been traced is a possible extension. Furthermore, it is assumed that there are no boundary pixels at the image border and that there is only one boundary or region in the image. The method can be extended to multiple regions by processing the regions individually.\n",
    "\n",
    "Implement / solve the following tasks:\n",
    "1. Read a test image as a grayscale image and plot it.\n",
    "2. Write a function which implements the steps 1-4 of the algorithm.\n",
    "3. Implement step 5 by integrating the steps 3 and 4 into an appropriate while loop.\n",
    "4. Plot the traced boundary with consecutive numbering of the points."
   ]
  },
  {
   "cell_type": "code",
   "execution_count": 2,
   "metadata": {},
   "outputs": [
    {
     "name": "stdout",
     "output_type": "stream",
     "text": [
      "Input image:\n"
     ]
    },
    {
     "data": {
      "image/png": "[encoded data removed]",
      "text/plain": [
       "<Figure size 20x20 with 1 Axes>"
      ]
     },
     "metadata": {
      "needs_background": "light"
     },
     "output_type": "display_data"
    },
    {
     "name": "stdout",
     "output_type": "stream",
     "text": [
      "Starting pixel = [[7, 9]]\n",
      "Boundary length = 14\n",
      "Traced boundary:\n"
     ]
    },
    {
     "data": {
      "image/png": "[encoded data removed]",
      "text/plain": [
       "<Figure size 20x20 with 1 Axes>"
      ]
     },
     "metadata": {
      "needs_background": "light"
     },
     "output_type": "display_data"
    },
    {
     "data": {
      "image/png": "[encoded data removed]",
      "text/plain": [
       "<Figure size 432x288 with 1 Axes>"
      ]
     },
     "metadata": {
      "needs_background": "light"
     },
     "output_type": "display_data"
    }
   ],
   "source": [
    "# write your code here\n",
    "\n",
    "# read the image as a grayscale image (parameter 0) and plot it\n",
    "img = cv2.imread('images/shape-01.png', 0)\n",
    "rows, cols = img.shape\n",
    "print(\"Input image:\")\n",
    "plot_img_orig(img)\n",
    "\n",
    "# example: append pairs of values to list, then clear again\n",
    "# res = [] # empty list for tracing result\n",
    "# print(res)\n",
    "# res.append([1, 2])\n",
    "# res.append([3, 4])\n",
    "# print(res)\n",
    "# print(res[1][1]) # second value of second entry\n",
    "# res = [] # clear list\n",
    "\n",
    "# clockwise search of next neighbor to b starting at c\n",
    "def searchNeighbor(img, b, c):\n",
    "    i = b[0]; j = b[1] # coordinates of current boundary pixel b\n",
    "    # values and positions of 8-neighborhood\n",
    "    nbh = [img[i-1, j-1], img[i-1, j], img[i-1, j+1], img[i, j+1], img[i+1, j+1], img[i+1, j], img[i+1, j-1], img[i, j-1]]\n",
    "    pos = [[i-1, j-1], [i-1, j], [i-1, j+1], [i, j+1], [i+1, j+1], [i+1, j], [i+1, j-1], [i, j-1]]\n",
    "    \n",
    "    # control outputs\n",
    "    #print(\"nbh = \" + str(nbh))\n",
    "    #print(\"pos = \" + str(pos))\n",
    "    \n",
    "    start = -1\n",
    "    # determine starting pixel position in neighborhood\n",
    "    if c[0] == i-1 and c[1] == j-1:\n",
    "        start = 0\n",
    "    elif c[0] == i-1 and c[1] == j:\n",
    "        start = 1\n",
    "    elif c[0] == i-1 and c[1] == j+1:\n",
    "        start = 2\n",
    "    elif c[0] == i and c[1] == j+1:\n",
    "        start = 3\n",
    "    elif c[0] == i+1 and c[1] == j+1:\n",
    "        start = 4\n",
    "    elif c[0] == i+1 and c[1] == j:\n",
    "        start = 5\n",
    "    elif c[0] == i+1 and c[1] == j-1:\n",
    "        start = 6\n",
    "    elif c[0] == i and c[1] == j-1:\n",
    "        start = 7\n",
    "        \n",
    "    # search for next neighbor in nbh beginning at start\n",
    "    idx = -1\n",
    "    for k in range(8):\n",
    "        idx = (k + start) % 8\n",
    "        if nbh[idx] > 0: # next neighbor found\n",
    "            break\n",
    "            \n",
    "    # return position of next neighbor and preceding position\n",
    "    return pos[idx], pos[idx-1]\n",
    "\n",
    "# trace boundary in given input image\n",
    "def traceBoundary(img):\n",
    "    # iterate over image: search for uppermost-leftmost pixel\n",
    "    rows, cols = img.shape\n",
    "    b0 = [-1, -1]; c0 = [-1, -1] # init\n",
    "    break_flag = False # flag to break outer for loop\n",
    "    for i in range(rows):\n",
    "        for j in range(cols):\n",
    "            if img[i, j] > 0:\n",
    "                b0 = [i, j] # uppermost-leftmost pixel\n",
    "                c0 = [i, j-1] # west-neighbor of b0\n",
    "\n",
    "                # break inner and outer for loop\n",
    "                break_flag = True\n",
    "                break\n",
    "\n",
    "        if break_flag:\n",
    "            break\n",
    "\n",
    "    # append first pixel to list with traced pixels\n",
    "    res = []\n",
    "    res.append(b0)\n",
    "    print(\"Starting pixel = \" + str(res))\n",
    "\n",
    "    # get b1 and c1\n",
    "    b1, c1 = searchNeighbor(img, b0, c0)\n",
    "\n",
    "    # repeat search until b = b0\n",
    "    b = b1; c = c1\n",
    "    while not (b == b0):\n",
    "        res.append(b) # append next value\n",
    "        b, c = searchNeighbor(img, b, c)\n",
    "        \n",
    "    return res\n",
    "    \n",
    "# trace boundary and print length\n",
    "res = traceBoundary(img)\n",
    "print(\"Boundary length = \" + str(len(res)))\n",
    "    \n",
    "# plot traced boundary\n",
    "img_res = np.zeros(img.shape, dtype=np.uint8)\n",
    "for i in range(len(res)):\n",
    "    img_res[res[i][0], res[i][1]] = 255\n",
    "\n",
    "print(\"Traced boundary:\")\n",
    "plot_img_orig(img_res)\n",
    "\n",
    "# plot traced edge\n",
    "for i in range(len(res)):\n",
    "    plt.plot(res[i][1], res[i][0], 'bo') # x is the horizontal axis here\n",
    "    plt.text(res[i][1], res[i][0], str(i), color=\"red\")\n",
    "\n",
    "plt.xticks(np.arange(rows))\n",
    "plt.yticks(np.arange(cols))\n",
    "plt.gca().invert_yaxis() # invert y-axis\n",
    "plt.gca().set_aspect('equal') # equal scales of axes\n",
    "plt.show()"
   ]
  },
  {
   "cell_type": "markdown",
   "metadata": {},
   "source": [
    "#### <span style=\"color: RoyalBlue; font-weight: bold;\">Task 5.2</span> Fourier Descriptors"
   ]
  },
  {
   "cell_type": "markdown",
   "metadata": {},
   "source": [
    "A traced boundary with $K$ points ($K$ should be even here, see below for explenation) can be represented as the sequence of coordinates $s(k) = [x(k), y(k)]$ for $k = 0, 1, 2, \\dots, K-1$. Each coordinate pair can then be interpreted as a complex number as follows:\n",
    "\n",
    "$$s(k) = x(k) + jy(k)$$\n",
    "\n",
    "In other words, the $x$-axis is treated as the real axis and the $y$-axis as the imaginary axis. The discrete Fourier transform (DFT) of this sequence is another sequence of complex coeffiencts $a(u)$ for $u = 0, 1, 2, \\dots, K-1$. The inverse DFT (IDFT) of this sequence restores $s(k)$.\n",
    "\n",
    "If only the first $P$ coefficients are used for the IDFT, while the others are set to zero, the result is an approximation of $s(k)$. In particular, setting high-frequency coefficients to zero is the same as filtering with an ideal lowpass filter.\n",
    "\n",
    "Implement / solve the following tasks:\n",
    "1. Trace a boundary in a test image (for example, use the function from the previous task).\n",
    "2. Compute the complex represenation of the traced boundary.\n",
    "3. Compute the corresponding DFT.\n",
    "4. Set the high-frequency coefficients to zero so that only the first $P$ coefficients are used.\n",
    "5. Compute the corresponding IDFT and plot the result.\n",
    "\n",
    "For computing the DFT and IDFT, the Numpy functions <a href=\"https://numpy.org/doc/stable/reference/generated/numpy.fft.fft.html\">`np.fft.fft`</a> and <a href=\"https://numpy.org/doc/stable/reference/generated/numpy.fft.ifft.html\">`np.fft.ifft`</a> can be used. The high-frequency coefficients have to be removed in a symmetric manner (positive and negative frequencies), which is why the DFT has to be centered (shifted). Then, half the number of coefficients can be set zero on each end of the centered DFT. This also why $K$ should be even. For shifting and backshifting, the Numpy functions <a href=\"https://numpy.org/doc/stable/reference/generated/numpy.fft.fftshift.html\">`np.fft.fftshift`</a> and <a href=\"https://numpy.org/doc/stable/reference/generated/numpy.fft.ifftshift.html\">`np.fft.ifftshift`</a> can be used. \n",
    "\n",
    "Note: Depending on the contour, the method can be highly sensitive to $P$."
   ]
  },
  {
   "cell_type": "code",
   "execution_count": 3,
   "metadata": {},
   "outputs": [
    {
     "name": "stdout",
     "output_type": "stream",
     "text": [
      "Input image:\n"
     ]
    },
    {
     "data": {
      "image/png": "[encoded data removed]",
      "text/plain": [
       "<Figure size 300x300 with 1 Axes>"
      ]
     },
     "metadata": {
      "needs_background": "light"
     },
     "output_type": "display_data"
    },
    {
     "name": "stdout",
     "output_type": "stream",
     "text": [
      "Starting pixel = [[32, 187]]\n",
      "Traced boundary:\n"
     ]
    },
    {
     "data": {
      "image/png": "[encoded data removed]",
      "text/plain": [
       "<Figure size 300x300 with 1 Axes>"
      ]
     },
     "metadata": {
      "needs_background": "light"
     },
     "output_type": "display_data"
    },
    {
     "name": "stdout",
     "output_type": "stream",
     "text": [
      "Reconstructed boundary:\n"
     ]
    },
    {
     "data": {
      "image/png": "[encoded data removed]",
      "text/plain": [
       "<Figure size 300x300 with 1 Axes>"
      ]
     },
     "metadata": {
      "needs_background": "light"
     },
     "output_type": "display_data"
    }
   ],
   "source": [
    "# write your code here\n",
    "\n",
    "# read the image as a grayscale image (parameter 0) and plot it\n",
    "img = cv2.imread('images/upb-logo-binary.png', 0)\n",
    "print(\"Input image:\")\n",
    "plot_img_orig(img)\n",
    "\n",
    "# trace boundary\n",
    "res = traceBoundary(img)\n",
    "\n",
    "# plot traced boundary\n",
    "img_res = np.zeros(img.shape, dtype=np.uint8)\n",
    "for i in range(len(res)):\n",
    "    img_res[res[i][0], res[i][1]] = 255\n",
    "\n",
    "print(\"Traced boundary:\")\n",
    "plot_img_orig(img_res)\n",
    "\n",
    "# interprete coordinate pairs as complex numbers\n",
    "seq = np.zeros(len(res), dtype=np.complex64) # empty numpy array\n",
    "for i in range(len(res)):\n",
    "    seq[i] = complex(res[i][0], res[i][1]) # save complex number\n",
    "\n",
    "# compute centered FFT of sequence\n",
    "seq_fft = np.fft.fft(seq)\n",
    "seq_fft = np.fft.fftshift(seq_fft)\n",
    "\n",
    "# only use P coefficients, set remaining ones to zero\n",
    "P = 20 # number of terms to be used\n",
    "c = int(len(seq)/2) # center in sequence (right center side)\n",
    "seq_fft[0:c-P] = 0 # left side\n",
    "seq_fft[c+P:len(seq)] = 0 # right side\n",
    "\n",
    "# backshift and compute IFFT of sequence\n",
    "seq_r = np.fft.ifftshift(seq_fft)\n",
    "seq_r = np.fft.ifft(seq_r)\n",
    "\n",
    "# plot reconstructed boundary\n",
    "img_rec = np.zeros(img.shape, dtype=np.uint8)\n",
    "for i in range(len(seq_r)):\n",
    "    img_rec[int(round(seq_r[i].real)), int(round(seq_r[i].imag))] = 255\n",
    "    \n",
    "print(\"Reconstructed boundary:\")\n",
    "plot_img_orig(img_rec)"
   ]
  },
  {
   "cell_type": "code",
   "execution_count": null,
   "metadata": {},
   "outputs": [],
   "source": []
  }
 ],
 "metadata": {
  "colab": {
   "collapsed_sections": [],
   "name": "exercise03.ipynb",
   "provenance": [
    {
     "file_id": "1t83LvQEqlSn19-1lIXfkp-R22qZd_lSK",
     "timestamp": 1586447633533
    }
   ],
   "toc_visible": true
  },
  "kernelspec": {
   "display_name": "Python 3",
   "language": "python",
   "name": "python3"
  },
  "language_info": {
   "codemirror_mode": {
    "name": "ipython",
    "version": 3
   },
   "file_extension": ".py",
   "mimetype": "text/x-python",
   "name": "python",
   "nbconvert_exporter": "python",
   "pygments_lexer": "ipython3",
   "version": "3.7.6"
  }
 },
 "nbformat": 4,
 "nbformat_minor": 4
}
