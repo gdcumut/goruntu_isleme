{
 "cells": [
  {
   "cell_type": "markdown",
   "metadata": {
    "colab_type": "text",
    "id": "qK1kecVF2afc"
   },
   "source": [
    "<div style=\"font-size:1.4em; margin-bottom:2em\">\n",
    "    <div style=\"float:right; line-height:1.2em;\">GET Lab<br />Paderborn University</div>\n",
    "  <div>SS 2021</div>\n",
    "</div>\n",
    "<div style=\"clear:both\"></div>\n",
    "<div style=\"text-align:center; font-size:1.8em;\">\n",
    "  Digital Image Processing II<br />Task Sheet 13\n",
    "</div>\n",
    "\n",
    "<hr>"
   ]
  },
  {
   "cell_type": "markdown",
   "metadata": {},
   "source": [
    "### Overview"
   ]
  },
  {
   "cell_type": "markdown",
   "metadata": {},
   "source": [
    "The objective of this task sheet is to implement and test a neural network to solve the XOR problem. This problem cannot be solved using a single linear decision boundary. The XOR problem is formed by assigning the XOR false values to one class ($c_1$), and the truth values to another ($c_2$). In this example, the binary coordinates have been rearranged for mathematical convenience. Note that in the neural network, the bias is not explicitly displayed with an additional arrow (which is usual) and that each neuron (node) has only a single output value which is send to all neurons in the next layer.\n",
    "\n",
    "The following figure shows the XOR problem to be studied, the fully connected neural network to be used, and the activation function to be used:\n",
    "\n",
    "<center><img src=\"images/overview.png\" width=\"850px\" style=\"margin:10px;\" /></center>\n",
    "\n",
    "Backpropagation, and therefore the training of neural networks, is usually formalized in terms of a matrix formulation. This leads to compact and easy to implement computations. Each layer is assigned an index $\\ell$. The training feature vectors (patterns) are summarized in a single pattern matrix $\\mathbf{X}$, where each column represents one pattern. The desired classification (the ideal activation values of the output neurons) is represented by the class membership matrix $\\mathbf{R}$. The matrices are given as follows:\n",
    "\n",
    "$$\n",
    "\\mathbf{X} =\n",
    "\\begin{bmatrix}\n",
    "1 & -1 & -1 &  1\\\\\n",
    "1 & -1 &  1 & -1\n",
    "\\end{bmatrix},\\\n",
    "\\mathbf{R} =\n",
    "\\begin{bmatrix}\n",
    "1 & 1 & 0 & 0\\\\\n",
    "0 & 0 & 1 & 1\n",
    "\\end{bmatrix}\n",
    "$$\n",
    "\n",
    "The input weights of each layer are summarized in a weight matrix $\\mathbf{M}(\\ell)$ and the bias values in a bias vector $\\mathbf{b}(\\ell)$. For $n_p$ training patterns (we have $n_p = 4$), $\\mathbf{b}(\\ell)$ has to be concatenated $n_p$ times in the horizontal direction to form a matrix $\\mathbf{B}(\\ell)$. In this example, we get the following forms:\n",
    "\n",
    "$$\n",
    "\\mathbf{W}(\\ell) =\n",
    "\\begin{bmatrix}\n",
    "w_{11}(\\ell) & w_{12}(\\ell)\\\\\n",
    "w_{21}(\\ell) & w_{22}(\\ell)\n",
    "\\end{bmatrix},\\\n",
    "\\mathbf{b}(\\ell) =\n",
    "\\begin{bmatrix}\n",
    "b_1(\\ell)\\\\\n",
    "b_2(\\ell)\n",
    "\\end{bmatrix},\\\n",
    "\\mathbf{B}(\\ell) =\n",
    "\\begin{bmatrix}\n",
    "b_1(\\ell) & b_1(\\ell) & b_1(\\ell) & b_1(\\ell)\\\\\n",
    "b_2(\\ell) & b_2(\\ell) & b_2(\\ell) & b_2(\\ell)\n",
    "\\end{bmatrix}\n",
    "$$\n",
    "\n",
    "As shown in the figure above, the weights $w_{ij}(\\ell)$ are notated as follows: the index $i$ refers to the number of the input neuron in that layer (layer $\\ell$) and $j$ to the number of the sending neuron in the previous layer ($\\ell-1$). The net inputs of the neurons for all feature vectors in one layer are summarized in a matrix $\\mathbf{Z}(\\ell)$. The corresponding activation values are summarized in a matrix $\\mathbf{A}(\\ell) = h(\\mathbf{Z}(\\ell))$, where $h(\\cdot)$ denotes the activation function. The activation function is applied separately to each element of $\\mathbf{Z}(\\ell)$. Each column of $\\mathbf{A}(\\ell)$ represents the activation values of the neurons in layer $\\ell$ for the corresponding training pattern (the corresponding column in $\\mathbf{X}$). The backpropagated errors are summarized in a matrix $\\mathbf{D}(\\ell)$. The learning rate is denoted by $\\alpha$.\n",
    "\n",
    "The backpropagation algorithm for one epoch can then be summarized as follows, where $\\odot$ refers to elementwise multiplication (carefully look for $\\ell$ and $L$):\n",
    "\n",
    "<center><img src=\"images/backpropagation.png\" width=\"700px\" style=\"margin:10px;\" /></center>"
   ]
  },
  {
   "cell_type": "markdown",
   "metadata": {},
   "source": [
    "---"
   ]
  },
  {
   "cell_type": "code",
   "execution_count": 1,
   "metadata": {},
   "outputs": [],
   "source": [
    "import cv2\n",
    "import numpy as np\n",
    "from matplotlib import pyplot as plt\n",
    "\n",
    "dpi = plt.rcParams['figure.dpi']\n",
    "\n",
    "# plot image in original size\n",
    "def plot_img_orig(img):\n",
    "    fig = plt.figure(figsize = (img.shape[1]/dpi, img.shape[0]/dpi))\n",
    "    fig.add_axes([0, 0, 1, 1])\n",
    "    plt.axis('off')\n",
    "    plt.imshow(img, cmap='gray', vmin=0, vmax=255) # cmap parameter is ignored for RGB(A) data\n",
    "    plt.show()"
   ]
  },
  {
   "cell_type": "markdown",
   "metadata": {},
   "source": [
    "#### <span style=\"color: RoyalBlue; font-weight: bold;\">Task 13.1</span> Fully Connected Neural Networks and Backpropagation"
   ]
  },
  {
   "cell_type": "markdown",
   "metadata": {},
   "source": [
    "Implement / solve the following tasks:\n",
    "1. Implement the neural network from the overview and train it with the four given training patterns using the backpropagation algorithm.\n",
    "2. Print and analyze the activation matrix $\\mathbf{A}(3)$ of the output layer after an appropriate number of epochs. Does it converge?\n",
    "3. Use the trained network to classify regularly sampled patterns in the 2D plane and plot the result.\n",
    "4. Plot and analyze the corresponding activation values of the first output neuron, for example by using a grayvalue image."
   ]
  },
  {
   "cell_type": "code",
   "execution_count": 2,
   "metadata": {},
   "outputs": [
    {
     "name": "stdout",
     "output_type": "stream",
     "text": [
      "Desired result:\n",
      "[[1 1 0 0]\n",
      " [0 0 1 1]]\n",
      "\n",
      "Result for epoch 0:\n",
      "[[0.4984994  0.55885515 0.39728459 0.65650188]\n",
      " [0.83815994 0.88931122 0.95943112 0.63649247]]\n",
      "\n",
      "Result for epoch 100:\n",
      "[[0.79574991 0.7957506  0.26183939 0.19494975]\n",
      " [0.16209913 0.16210259 0.7473101  0.87850316]]\n",
      "\n",
      "Result for epoch 200:\n",
      "[[0.89578842 0.89578786 0.13132748 0.10149223]\n",
      " [0.09179856 0.09179913 0.87669884 0.91554536]]\n",
      "\n",
      "Result for epoch 300:\n",
      "[[0.92369739 0.92369721 0.0953027  0.0749044 ]\n",
      " [0.07013714 0.07013733 0.90943289 0.93297216]]\n",
      "\n",
      "Result for epoch 400:\n",
      "[[0.93748453 0.93748444 0.07772762 0.06160881]\n",
      " [0.0586989  0.05869899 0.92546099 0.94308484]]\n",
      "\n"
     ]
    },
    {
     "data": {
      "image/png": "[encoded data removed]",
      "text/plain": [
       "<Figure size 360x360 with 1 Axes>"
      ]
     },
     "metadata": {
      "needs_background": "light"
     },
     "output_type": "display_data"
    },
    {
     "name": "stdout",
     "output_type": "stream",
     "text": [
      "Decision surface:\n"
     ]
    },
    {
     "data": {
      "image/png": "[encoded data removed]",
      "text/plain": [
       "<Figure size 272x272 with 1 Axes>"
      ]
     },
     "metadata": {
      "needs_background": "light"
     },
     "output_type": "display_data"
    }
   ],
   "source": [
    "# write your code here\n",
    "\n",
    "# parameters\n",
    "alpha = 1.0\n",
    "n_epochs = 500\n",
    "\n",
    "# sigmoid activation function\n",
    "def sigmoid(z):\n",
    "    return 1/(1+np.exp(-z))\n",
    "\n",
    "# derivative of the sigmoid activation function \n",
    "def sigmoid_diff(z):\n",
    "    return sigmoid(z)*(1-sigmoid(z))\n",
    "\n",
    "# random initialization of the weight and bias matrices\n",
    "# layer 2\n",
    "W2 = np.array([[0.18, -0.87], [-0.72, 0.41]])\n",
    "b2 = np.array([0.01, 0.01]).reshape(2, 1) # reshape to get column vector\n",
    "B2 = np.hstack((b2, b2, b2, b2))\n",
    "\n",
    "# layer 3 (output layer, l = L)\n",
    "W3 = np.array([[1.18, -0.97], [-0.72, 4.41]])\n",
    "b3 = np.array([0.01, 0.01]).reshape(2, 1) # reshape to get column vector\n",
    "B3 = np.hstack((b3, b3, b3, b3))\n",
    "\n",
    "# step 1: input patterns and desired output\n",
    "A1 = np.array([[1, -1, -1, 1], [1, -1, 1, -1]])\n",
    "R = np.array([[1, 1, 0, 0], [0, 0, 1, 1]]) # top row: c1, bottom row: c2\n",
    "#print(A1)\n",
    "\n",
    "# print the desired classification matrix\n",
    "print(\"Desired result:\"); print(str(R) + \"\\n\")\n",
    "\n",
    "# k indicates the current epoch\n",
    "for k in range(n_epochs):\n",
    "    # step 2: forward pass\n",
    "    # layer 2\n",
    "    Z2 = (W2 @ A1) + B2\n",
    "    A2 = sigmoid(Z2)\n",
    "    h_diff_Z2 = sigmoid_diff(Z2)\n",
    "\n",
    "    # layer 3 (output layer)\n",
    "    Z3 = (W3 @ A2) + B3\n",
    "    A3 = sigmoid(Z3)\n",
    "    h_diff_Z3 = sigmoid_diff(Z3)\n",
    "\n",
    "    D3 = np.multiply((A3-R), h_diff_Z3) # elementwise multiplication\n",
    "\n",
    "    # step 3: backpropagation - only required for layer 2 here\n",
    "    D2 = np.multiply((np.transpose(W3) @ D3), h_diff_Z2)\n",
    "\n",
    "    # step 4: update weights and biases\n",
    "    # layer 2\n",
    "    W2 = W2 - alpha * D2 @ np.transpose(A1)\n",
    "    b2 = b2 - alpha * (np.sum(D2, axis=1)).reshape(2, 1) # second part gives row vector without reshape\n",
    "    B2 = np.hstack((b2, b2, b2, b2))\n",
    "\n",
    "    # layer 3\n",
    "    W3 = W3 - alpha * D3 @ np.transpose(A2)\n",
    "    b3 = b3 - alpha * (np.sum(D3, axis=1)).reshape(2, 1) # second part gives row vector without reshape\n",
    "    B3 = np.hstack((b3, b3, b3, b3))\n",
    "    \n",
    "    # optional: print last activation values\n",
    "    if (k % 100) == 0:\n",
    "        print(\"Result for epoch \" + str(k) + \":\")\n",
    "        print(str(A3) + \"\\n\")\n",
    "        \n",
    "# regularly sampled patterns in the 2D plane\n",
    "pos = np.arange(-2, 2.25, 0.25) # to generate pairs of x1 and x2\n",
    "\n",
    "# plot preparation\n",
    "plt.figure(figsize=(5, 5))\n",
    "plt.xlabel(\"$x_1$\"); plt.ylabel(\"$x_2$\")\n",
    "plt.axis(\"equal\")\n",
    "plt.xlim(-2, 2); plt.ylim(-2, 2)\n",
    "\n",
    "# image to visualize the activation value of the first neuron\n",
    "img = np.zeros((len(pos), len(pos)))\n",
    "\n",
    "# classify each pair (pattern) of x1 and x2 \n",
    "for i in range (len(pos)):\n",
    "    for j in range (len(pos)):\n",
    "        # input pattern\n",
    "        A1 = np.array([pos[i], pos[j]]).reshape(2, 1)\n",
    "        \n",
    "        # forward pass through layer 2\n",
    "        Z2 = (W2 @ A1) + b2 # note that b2 is a single col vector\n",
    "        A2 = sigmoid(Z2)\n",
    "\n",
    "        # forward pass through layer 3 (output layer)\n",
    "        Z3 = (W3 @ A2) + b3\n",
    "        A3 = sigmoid(Z3)\n",
    "        \n",
    "        # save the activation value of the first neuron\n",
    "        img[i, j] = A3[0]\n",
    "        \n",
    "        # plot\n",
    "        if A3[0] > 0.5: # class 1\n",
    "            plt.plot(pos[i], pos[j], 'ro', alpha=0.2, label='class 1')\n",
    "        else: # class 2\n",
    "            plt.plot(pos[i], pos[j], 'bo', alpha=0.2, label='class 2')\n",
    "\n",
    "# final plot\n",
    "plt.plot([1, -1], [1, -1], 'ro')\n",
    "plt.plot([-1, 1], [1, -1], 'bo')\n",
    "plt.show()\n",
    "\n",
    "# normalize and resize the image\n",
    "img = cv2.normalize(img, None, 0, 255, cv2.NORM_MINMAX)\n",
    "img = cv2.flip(img, 1) # y axis in image points downwards\n",
    "img = cv2.resize(img, (0, 0), fx=16, fy=16, interpolation=cv2.INTER_NEAREST)\n",
    "\n",
    "print(\"Decision surface:\")\n",
    "plot_img_orig(img)"
   ]
  },
  {
   "cell_type": "code",
   "execution_count": null,
   "metadata": {},
   "outputs": [],
   "source": []
  }
 ],
 "metadata": {
  "colab": {
   "collapsed_sections": [],
   "name": "exercise03.ipynb",
   "provenance": [
    {
     "file_id": "1t83LvQEqlSn19-1lIXfkp-R22qZd_lSK",
     "timestamp": 1586447633533
    }
   ],
   "toc_visible": true
  },
  "kernelspec": {
   "display_name": "Python 3",
   "language": "python",
   "name": "python3"
  },
  "language_info": {
   "codemirror_mode": {
    "name": "ipython",
    "version": 3
   },
   "file_extension": ".py",
   "mimetype": "text/x-python",
   "name": "python",
   "nbconvert_exporter": "python",
   "pygments_lexer": "ipython3",
   "version": "3.7.6"
  }
 },
 "nbformat": 4,
 "nbformat_minor": 4
}
